{
 "cells": [
  {
   "cell_type": "code",
   "execution_count": 1,
   "metadata": {},
   "outputs": [],
   "source": [
    "import sys\r\n",
    "sys.path.append(\"P:/Dokumente/3 Uni/SoSe21/Data_Compression/DataCompression\")"
   ]
  },
  {
   "cell_type": "code",
   "execution_count": 2,
   "metadata": {},
   "outputs": [
    {
     "name": "stdout",
     "output_type": "stream",
     "text": [
      "Using cpu device\n",
      "Creating environment from the given name 'BreakoutNoFrameskip-v4'\n",
      "Wrapping the env with a `Monitor` wrapper\n",
      "Wrapping the env in a DummyVecEnv.\n",
      "Wrapping the env in a VecTransposeImage.\n",
      "Created a buffer for images of shape torch.Size([1000, 100800]) and latents torch.Size([1000, 128])\n",
      "Filling buffer with 10 samples\n"
     ]
    },
    {
     "name": "stderr",
     "output_type": "stream",
     "text": [
      "100%|██████████| 10/10 [00:00<00:00, 165.77it/s]\n"
     ]
    }
   ],
   "source": [
    "from src.training_loop import Trainer\r\n",
    "config = {\"buffer_size\": 10}\r\n",
    "t = Trainer()\r\n",
    "t.fill_buffer(10)"
   ]
  },
  {
   "cell_type": "code",
   "execution_count": 3,
   "metadata": {},
   "outputs": [
    {
     "name": "stdout",
     "output_type": "stream",
     "text": [
      "The entropy of the latents is: 2.9122815238305213\n",
      "The L2-loss in image space is: 5277.48486328125\n",
      "The L2-loss in agent space is: 2432.37890625\n"
     ]
    },
    {
     "data": {
      "text/plain": [
       "(2.9122815238305213, 5277.48486328125, 2432.37890625)"
      ]
     },
     "execution_count": 3,
     "metadata": {},
     "output_type": "execute_result"
    }
   ],
   "source": [
    "from src.metric import evaluate\r\n",
    "evaluate(t._rl_agent.policy.features_extractor, t._Decoder.model, t._buffer)"
   ]
  }
 ],
 "metadata": {
  "interpreter": {
   "hash": "4b5be0c7d8816b0411dd8381c01b6ac4b538687487d40264816f7c3f94b5666c"
  },
  "kernelspec": {
   "display_name": "Python 3.7.9 64-bit ('base': conda)",
   "name": "python3"
  },
  "language_info": {
   "codemirror_mode": {
    "name": "ipython",
    "version": 3
   },
   "file_extension": ".py",
   "mimetype": "text/x-python",
   "name": "python",
   "nbconvert_exporter": "python",
   "pygments_lexer": "ipython3",
   "version": "3.7.9"
  },
  "orig_nbformat": 4
 },
 "nbformat": 4,
 "nbformat_minor": 2
}