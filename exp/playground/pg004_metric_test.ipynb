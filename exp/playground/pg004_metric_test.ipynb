{
 "cells": [
  {
   "cell_type": "markdown",
   "metadata": {},
   "source": [
    "### Metric test"
   ]
  },
  {
   "cell_type": "code",
   "execution_count": 1,
   "metadata": {},
   "outputs": [],
   "source": [
    "from DataCompression.msc.Metric import Metric\n",
    "import numpy as np\n",
    "from DataCompression.src.decoder_MSE import CNN_AE\n",
    "from DataCompression.msc.vae_agarap import AE\n",
    "from DataCompression.src.buffer import Decoder_Buffer\n",
    "import torch"
   ]
  },
  {
   "cell_type": "code",
   "execution_count": 2,
   "metadata": {},
   "outputs": [
    {
     "name": "stdout",
     "output_type": "stream",
     "text": [
      "Created a buffer for images of shape torch.Size([1000, 3, 210, 160]) and latents torch.Size([1000, 128])\n"
     ]
    }
   ],
   "source": [
    "# load the test dataset\n",
    "path = f\"C:/Users/jabad/Documents/Tuebingen/DataCompression/DataCompression/exp/test_dataset\"\n",
    "db = Decoder_Buffer([3, 210, 160], 128, 1000)\n",
    "db.load(path)\n",
    "images = db.images\n",
    "latents = db.latents"
   ]
  },
  {
   "cell_type": "code",
   "execution_count": 3,
   "metadata": {},
   "outputs": [],
   "source": [
    "# reformat the data to fit the decoder method\n",
    "latent = torch.transpose(torch.unsqueeze(torch.unsqueeze(latents, -1), -1).float(), 2, 1)\n",
    "x_train = images.float()"
   ]
  },
  {
   "cell_type": "code",
   "execution_count": null,
   "metadata": {},
   "outputs": [
    {
     "name": "stdout",
     "output_type": "stream",
     "text": [
      "\n",
      " epoch : 1/10, loss = 5.592503\n",
      "\n",
      " epoch : 2/10, loss = 5.280712\n",
      "\n",
      " epoch : 3/10, loss = 4.949123\n",
      "\n",
      " epoch : 4/10, loss = 4.674606\n",
      "\n",
      " epoch : 5/10, loss = 4.451707\n"
     ]
    }
   ],
   "source": [
    "# create the model\n",
    "\n",
    "model = CNN_AE(in_dims=latent[0].shape, out_dims=x_train[0].shape)\n",
    "criterion = torch.nn.MSELoss()\n",
    "optimizer = torch.optim.Adam(model.parameters())\n",
    "epochs = 10\n",
    "\n",
    "# train the model\n",
    "epoch_losses = []\n",
    "for epoch in range(epochs):\n",
    "    total_loss = 0\n",
    "    # reset the gradients to zero\n",
    "    optimizer.zero_grad()\n",
    "\n",
    "    # compute reconstructions\n",
    "    outputs = model(latent)\n",
    "    outputs = torch.squeeze(outputs, 0)\n",
    "\n",
    "    # compute reconstruction loss\n",
    "    loss = criterion(outputs, x_train)\n",
    "\n",
    "    # compute gradients\n",
    "    loss.backward()\n",
    "\n",
    "    # perform parameter update\n",
    "    optimizer.step()\n",
    "\n",
    "    # add this images's loss to epoch losses (loss per image normalized)\n",
    "    epoch_losses.append(loss.item() / len(images))\n",
    "\n",
    "        # display the epoch training loss\n",
    "    print(\"\\n epoch : {}/{}, loss = {:.6f}\".format(epoch + 1, epochs, epoch_losses[-1]))"
   ]
  },
  {
   "cell_type": "code",
   "execution_count": null,
   "metadata": {},
   "outputs": [],
   "source": [
    "# get the reconstructed images\n",
    "outputs = model(latent)"
   ]
  },
  {
   "cell_type": "code",
   "execution_count": null,
   "metadata": {},
   "outputs": [],
   "source": [
    "# run the metric\n",
    "metric = Metric(torch.nn.MSELoss())\n",
    "accuracy, bpd = metric.measure(x_train, outputs, latent)\n",
    "print(\"MSE Loss:\")\n",
    "print(accuracy)\n",
    "print(\"bits/image:\")\n",
    "print(bpd)"
   ]
  },
  {
   "cell_type": "code",
   "execution_count": null,
   "metadata": {},
   "outputs": [],
   "source": [
    "# MSE Loss:\n",
    "# 3619.858154296875\n",
    "# bits/image:\n",
    "# 0.576"
   ]
  }
 ],
 "metadata": {
  "interpreter": {
   "hash": "4b5be0c7d8816b0411dd8381c01b6ac4b538687487d40264816f7c3f94b5666c"
  },
  "kernelspec": {
   "display_name": "Python 3",
   "language": "python",
   "name": "python3"
  },
  "language_info": {
   "codemirror_mode": {
    "name": "ipython",
    "version": 3
   },
   "file_extension": ".py",
   "mimetype": "text/x-python",
   "name": "python",
   "nbconvert_exporter": "python",
   "pygments_lexer": "ipython3",
   "version": "3.7.0"
  }
 },
 "nbformat": 4,
 "nbformat_minor": 2
}
