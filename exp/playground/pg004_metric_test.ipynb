{
 "cells": [
  {
   "cell_type": "markdown",
   "metadata": {},
   "source": [
    "### Metric test"
   ]
  },
  {
   "cell_type": "code",
   "execution_count": 1,
   "metadata": {},
   "outputs": [],
   "source": [
    "from DataCompression.msc.Metric import Metric\n",
    "import numpy as np\n",
    "from DataCompression.src.decoder_MSE import CNN_AE\n",
    "from DataCompression.msc.vae_agarap import AE\n",
    "import torch"
   ]
  },
  {
   "cell_type": "code",
   "execution_count": 2,
   "metadata": {},
   "outputs": [],
   "source": [
    "# make some data to play with\n",
    "data = np.load('digits389.npy', allow_pickle=True).item()\n",
    "x_test = data['Xtest']\n",
    "x_train = data['Xtrain']\n",
    "y_test = data['Ytest']\n",
    "y_train = data['Ytrain']"
   ]
  },
  {
   "cell_type": "code",
   "execution_count": 3,
   "metadata": {},
   "outputs": [
    {
     "name": "stdout",
     "output_type": "stream",
     "text": [
      "Original VAE loss:\n",
      "epoch : 1/2, loss = 0.333146\n",
      "epoch : 2/2, loss = 0.235466\n"
     ]
    }
   ],
   "source": [
    "# train the original vae to get the low dim spaces (this is slow because used single batches)\n",
    "print(\"Original VAE loss:\")\n",
    "ae = AE()\n",
    "ae.train_ae(x_train, epochs=2)\n",
    "# get the lower dimensional space it produced\n",
    "latent = ae.get_latent(x_train)"
   ]
  },
  {
   "cell_type": "code",
   "execution_count": 4,
   "metadata": {},
   "outputs": [],
   "source": [
    "# reformat the data to fit the decoder method\n",
    "latent = torch.transpose(torch.tensor(np.expand_dims(np.reshape(np.asarray(latent), (len(latent), 8, 8)), -1)), 1, 3).float()\n",
    "x_train = torch.transpose(torch.tensor(np.expand_dims(np.reshape(x_train, (len(latent), 16, 16)), -1)), 1, 3).float()"
   ]
  },
  {
   "cell_type": "code",
   "execution_count": 5,
   "metadata": {},
   "outputs": [
    {
     "name": "stdout",
     "output_type": "stream",
     "text": [
      "\n",
      " epoch : 1/2, loss = 0.000376\n"
     ]
    }
   ],
   "source": [
    "# create the model\n",
    "model = CNN_AE(in_dims=latent[0].shape, out_dims=x_train[0].shape)\n",
    "criterion = torch.nn.MSELoss()\n",
    "optimizer = torch.optim.Adam(model.parameters())\n",
    "epochs = 2\n",
    "\n",
    "# train the model\n",
    "epoch_losses = []\n",
    "for epoch in range(epochs):\n",
    "    total_loss = 0\n",
    "    # reset the gradients to zero\n",
    "    optimizer.zero_grad()\n",
    "\n",
    "    # compute reconstructions\n",
    "    outputs = model(latent)\n",
    "    outputs = torch.squeeze(outputs, 0)\n",
    "\n",
    "    # compute reconstruction loss\n",
    "    loss = criterion(outputs, x_train)\n",
    "\n",
    "    # compute gradients\n",
    "    loss.backward()\n",
    "\n",
    "    # perform parameter update\n",
    "    optimizer.step()\n",
    "\n",
    "    # add this images's loss to epoch losses (loss per image normalized)\n",
    "    epoch_losses.append(loss.item() / len(y_train))\n",
    "\n",
    "        # display the epoch training loss\n",
    "    if epoch % 100 == 0:\n",
    "        print(\"\\n epoch : {}/{}, loss = {:.6f}\".format(epoch + 1, epochs, epoch_losses[-1]))"
   ]
  },
  {
   "cell_type": "code",
   "execution_count": 6,
   "metadata": {},
   "outputs": [],
   "source": [
    "# get the reconstructed images\n",
    "outputs = model(latent)"
   ]
  },
  {
   "cell_type": "code",
   "execution_count": 7,
   "metadata": {},
   "outputs": [
    {
     "name": "stdout",
     "output_type": "stream",
     "text": [
      "MSE Loss:\n",
      "0.6804415583610535\n",
      "bits/dimension:\n",
      "0.03868887694787748\n"
     ]
    }
   ],
   "source": [
    "# run the metric\n",
    "metric = Metric(torch.nn.MSELoss())\n",
    "accuracy, bpd = metric.measure(x_train, outputs, latent)\n",
    "print(\"MSE Loss:\")\n",
    "print(accuracy)\n",
    "print(\"bits/dimension:\")\n",
    "print(bpd)"
   ]
  },
  {
   "cell_type": "markdown",
   "metadata": {},
   "source": [
    "### Now try for our data"
   ]
  },
  {
   "cell_type": "code",
   "execution_count": null,
   "metadata": {},
   "outputs": [],
   "source": []
  }
 ],
 "metadata": {
  "interpreter": {
   "hash": "4b5be0c7d8816b0411dd8381c01b6ac4b538687487d40264816f7c3f94b5666c"
  },
  "kernelspec": {
   "display_name": "Python 3",
   "language": "python",
   "name": "python3"
  },
  "language_info": {
   "codemirror_mode": {
    "name": "ipython",
    "version": 3
   },
   "file_extension": ".py",
   "mimetype": "text/x-python",
   "name": "python",
   "nbconvert_exporter": "python",
   "pygments_lexer": "ipython3",
   "version": "3.7.0"
  }
 },
 "nbformat": 4,
 "nbformat_minor": 2
}
