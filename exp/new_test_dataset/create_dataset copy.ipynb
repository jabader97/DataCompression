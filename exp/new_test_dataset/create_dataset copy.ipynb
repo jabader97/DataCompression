{
 "cells": [
  {
   "cell_type": "code",
   "execution_count": 55,
   "source": [
    "import sys, os\r\n",
    "\r\n",
    "path = \"P:/Dokumente/3 Uni/SoSe21/Data_Compression/DataCompressionNew/DataCompression/exp/full_run/checkpoint_11/rl_agent.zip\"\r\n",
    "\r\n",
    "sys.path.append(\"P:/Dokumente/3 Uni/SoSe21/Data_Compression/DataCompressionNew\")\r\n",
    "sys.path.append(os.getcwd())\r\n",
    "from DataCompression.src.buffer import Decoder_Buffer\r\n",
    "\r\n",
    "from stable_baselines3 import PPO\r\n",
    "import gym \r\n",
    "\r\n",
    "policy_kwargs = dict(\r\n",
    "    features_extractor_kwargs=dict(features_dim=128))\r\n",
    "env = gym.make(\"BreakoutNoFrameskip-v4\")\r\n",
    "t = PPO(\"CnnPolicy\",env, policy_kwargs=policy_kwargs)\r\n",
    "t.load(path);"
   ],
   "outputs": [],
   "metadata": {}
  },
  {
   "cell_type": "code",
   "execution_count": 85,
   "source": [
    "import time\r\n",
    "import torch\r\n",
    "from tqdm import tqdm\r\n",
    "import numpy as np\r\n",
    "def fill_buffer(samples=100, randomly=True, use_tqdm=True):\r\n",
    "    \"\"\"Fills the buffer randomly\r\n",
    "\r\n",
    "    Args:\r\n",
    "        steps (int): Number of steps to take\r\n",
    "        use_tqdm (bool): Add progress bar if True.\r\n",
    "    \"\"\"\r\n",
    "    print(f\"Filling buffer with {samples} samples\")\r\n",
    "    buffer = Decoder_Buffer([210, 160, 3], 128, 100, flatten=True)\r\n",
    "    time.sleep(1) # to avoid printstream clashing with progressbar\r\n",
    "    observation = env.reset()\r\n",
    "    r = tqdm(range(samples)) if use_tqdm else range(samples)\r\n",
    "\r\n",
    "    env_step = 0\r\n",
    "    for i in r:\r\n",
    "        while True:\r\n",
    "            action = t.predict(observation)\r\n",
    "            observation, reward, done, info = env.step(action)\r\n",
    "            latent = torch.zeros(128)# t.policy.features_extractor(observation).detach() # make sure to detach the latents to not propagate back through rl agent in decoder training\r\n",
    "            env_step += 1\r\n",
    "\r\n",
    "            if env_step > 800 and env_step % 50 == 0: # min 500 steps in then every 50th\r\n",
    "                buffer_observation = torch.from_numpy(observation).float()\r\n",
    "                buffer.add(buffer_observation, latent)\r\n",
    "                break\r\n",
    "            if done:\r\n",
    "                observation = env.reset()\r\n",
    "                env_step = 0\r\n",
    "                continue\r\n",
    "\r\n",
    "    env.close()\r\n",
    "    return buffer"
   ],
   "outputs": [],
   "metadata": {}
  },
  {
   "cell_type": "code",
   "execution_count": 87,
   "source": [
    "test_buffer = fill_buffer(1000)"
   ],
   "outputs": [
    {
     "output_type": "stream",
     "name": "stdout",
     "text": [
      "Filling buffer with 10 samples\n",
      "Created a buffer for images of shape torch.Size([100, 100800]) and latents torch.Size([100, 128])\n"
     ]
    },
    {
     "output_type": "stream",
     "name": "stderr",
     "text": [
      "100%|██████████| 10/10 [02:17<00:00, 13.73s/it]\n"
     ]
    }
   ],
   "metadata": {}
  },
  {
   "cell_type": "code",
   "execution_count": 58,
   "source": [
    "from matplotlib import pyplot as plt\r\n",
    "os.environ[\"KMP_DUPLICATE_LIB_OK\"]=\"TRUE\""
   ],
   "outputs": [],
   "metadata": {}
  },
  {
   "cell_type": "code",
   "execution_count": 88,
   "source": [
    "fig, axs = plt.subplots(2, 5)\r\n",
    "fig.set_size_inches(18.5, 10.5)\r\n",
    "for ax in fig.axes:        \r\n",
    "    image = test_buffer.sample(1)[0][0]\r\n",
    "    image = image.reshape(210, 160, 3)\r\n",
    "    # image = image.permute(2, 0, 1)\r\n",
    "    image = image.type(torch.int64)\r\n",
    "    ax.imshow(image)"
   ],
   "outputs": [
    {
     "output_type": "display_data",
     "data": {
      "text/plain": [
       "<Figure size 1332x756 with 10 Axes>"
      ],
      "image/png": "[encoded data removed]"
     },
     "metadata": {
      "needs_background": "light"
     }
    }
   ],
   "metadata": {}
  }
 ],
 "metadata": {
  "orig_nbformat": 4,
  "language_info": {
   "name": "python",
   "version": "3.9.4",
   "mimetype": "text/x-python",
   "codemirror_mode": {
    "name": "ipython",
    "version": 3
   },
   "pygments_lexer": "ipython3",
   "nbconvert_exporter": "python",
   "file_extension": ".py"
  },
  "kernelspec": {
   "name": "python3",
   "display_name": "Python 3.9.4 64-bit ('py39': conda)"
  },
  "interpreter": {
   "hash": "a074d8dbc2ecd3a4afb0473de583de8eabf3781682f9ed49a8a9cbe2783e9c29"
  }
 },
 "nbformat": 4,
 "nbformat_minor": 2
}