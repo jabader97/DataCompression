{
 "cells": [
  {
   "cell_type": "code",
   "execution_count": 1,
   "metadata": {},
   "outputs": [
    {
     "name": "stdout",
     "output_type": "stream",
     "text": [
      "Using cpu device\n",
      "Creating environment from the given name 'BreakoutNoFrameskip-v4'\n",
      "Wrapping the env with a `Monitor` wrapper\n",
      "Wrapping the env in a DummyVecEnv.\n",
      "Wrapping the env in a VecTransposeImage.\n",
      "Using custom NatureCNN feature extractor with added variance estimation\n",
      "Created a buffer for images of shape torch.Size([1000, 100800]) and latents torch.Size([1000, 128])\n",
      "---------------------------------\n",
      "| rollout/           |          |\n",
      "|    ep_len_mean     | 623      |\n",
      "|    ep_rew_mean     | 0.667    |\n",
      "| time/              |          |\n",
      "|    fps             | 193      |\n",
      "|    iterations      | 1        |\n",
      "|    time_elapsed    | 10       |\n",
      "|    total_timesteps | 2048     |\n",
      "---------------------------------\n",
      "\n",
      " Saved RL agent\n",
      "-----------------------------------------\n",
      "| rollout/                |             |\n",
      "|    ep_len_mean          | 701         |\n",
      "|    ep_rew_mean          | 1.5         |\n",
      "| time/                   |             |\n",
      "|    fps                  | 199         |\n",
      "|    iterations           | 1           |\n",
      "|    time_elapsed         | 10          |\n",
      "|    total_timesteps      | 2048        |\n",
      "| train/                  |             |\n",
      "|    approx_kl            | 0.008456919 |\n",
      "|    clip_fraction        | 0.0733      |\n",
      "|    clip_range           | 0.2         |\n",
      "|    entropy_loss         | -1.38       |\n",
      "|    explained_variance   | -14.3       |\n",
      "|    learning_rate        | 0.0003      |\n",
      "|    loss                 | 1.01        |\n",
      "|    n_updates            | 10          |\n",
      "|    policy_gradient_loss | -0.00531    |\n",
      "|    value_loss           | 0.128       |\n",
      "-----------------------------------------\n",
      "\n",
      " Saved RL agent\n",
      "-----------------------------------------\n",
      "| rollout/                |             |\n",
      "|    ep_len_mean          | 557         |\n",
      "|    ep_rew_mean          | 0.333       |\n",
      "| time/                   |             |\n",
      "|    fps                  | 198         |\n",
      "|    iterations           | 1           |\n",
      "|    time_elapsed         | 10          |\n",
      "|    total_timesteps      | 2048        |\n",
      "| train/                  |             |\n",
      "|    approx_kl            | 0.017297272 |\n",
      "|    clip_fraction        | 0.105       |\n",
      "|    clip_range           | 0.2         |\n",
      "|    entropy_loss         | -1.34       |\n",
      "|    explained_variance   | -2.32       |\n",
      "|    learning_rate        | 0.0003      |\n",
      "|    loss                 | 0.989       |\n",
      "|    n_updates            | 20          |\n",
      "|    policy_gradient_loss | -0.00692    |\n",
      "|    value_loss           | 0.0609      |\n",
      "-----------------------------------------\n",
      "\n",
      " Saved RL agent\n",
      "-----------------------------------------\n",
      "| rollout/                |             |\n",
      "|    ep_len_mean          | 671         |\n",
      "|    ep_rew_mean          | 1           |\n",
      "| time/                   |             |\n",
      "|    fps                  | 195         |\n",
      "|    iterations           | 1           |\n",
      "|    time_elapsed         | 10          |\n",
      "|    total_timesteps      | 2048        |\n",
      "| train/                  |             |\n",
      "|    approx_kl            | 0.008567277 |\n",
      "|    clip_fraction        | 0.0563      |\n",
      "|    clip_range           | 0.2         |\n",
      "|    entropy_loss         | -1.33       |\n",
      "|    explained_variance   | -1.53       |\n",
      "|    learning_rate        | 0.0003      |\n",
      "|    loss                 | 1.03        |\n",
      "|    n_updates            | 30          |\n",
      "|    policy_gradient_loss | -0.00393    |\n",
      "|    value_loss           | 0.0333      |\n",
      "-----------------------------------------\n",
      "\n",
      " Saved RL agent\n",
      "----------------------------------------\n",
      "| rollout/                |            |\n",
      "|    ep_len_mean          | 653        |\n",
      "|    ep_rew_mean          | 1.33       |\n",
      "| time/                   |            |\n",
      "|    fps                  | 169        |\n",
      "|    iterations           | 1          |\n",
      "|    time_elapsed         | 12         |\n",
      "|    total_timesteps      | 2048       |\n",
      "| train/                  |            |\n",
      "|    approx_kl            | 0.01609814 |\n",
      "|    clip_fraction        | 0.0853     |\n",
      "|    clip_range           | 0.2        |\n",
      "|    entropy_loss         | -1.36      |\n",
      "|    explained_variance   | -0.574     |\n",
      "|    learning_rate        | 0.0003     |\n",
      "|    loss                 | 0.997      |\n",
      "|    n_updates            | 40         |\n",
      "|    policy_gradient_loss | -0.00541   |\n",
      "|    value_loss           | 0.0255     |\n",
      "----------------------------------------\n",
      "\n",
      " Saved RL agent\n",
      "------------------------------------------\n",
      "| rollout/                |              |\n",
      "|    ep_len_mean          | 566          |\n",
      "|    ep_rew_mean          | 0.5          |\n",
      "| time/                   |              |\n",
      "|    fps                  | 160          |\n",
      "|    iterations           | 1            |\n",
      "|    time_elapsed         | 12           |\n",
      "|    total_timesteps      | 2048         |\n",
      "| train/                  |              |\n",
      "|    approx_kl            | 0.0047795805 |\n",
      "|    clip_fraction        | 0.0493       |\n",
      "|    clip_range           | 0.2          |\n",
      "|    entropy_loss         | -1.35        |\n",
      "|    explained_variance   | 0.466        |\n",
      "|    learning_rate        | 0.0003       |\n",
      "|    loss                 | 0.988        |\n",
      "|    n_updates            | 50           |\n",
      "|    policy_gradient_loss | -0.0057      |\n",
      "|    value_loss           | 0.0175       |\n",
      "------------------------------------------\n",
      "\n",
      " Saved RL agent\n",
      "-----------------------------------------\n",
      "| rollout/                |             |\n",
      "|    ep_len_mean          | 970         |\n",
      "|    ep_rew_mean          | 3           |\n",
      "| time/                   |             |\n",
      "|    fps                  | 170         |\n",
      "|    iterations           | 1           |\n",
      "|    time_elapsed         | 11          |\n",
      "|    total_timesteps      | 2048        |\n",
      "| train/                  |             |\n",
      "|    approx_kl            | 0.003454505 |\n",
      "|    clip_fraction        | 0.0126      |\n",
      "|    clip_range           | 0.2         |\n",
      "|    entropy_loss         | -1.35       |\n",
      "|    explained_variance   | 0.213       |\n",
      "|    learning_rate        | 0.0003      |\n",
      "|    loss                 | 0.977       |\n",
      "|    n_updates            | 60          |\n",
      "|    policy_gradient_loss | -0.00763    |\n",
      "|    value_loss           | 0.0187      |\n",
      "-----------------------------------------\n",
      "\n",
      " Saved RL agent\n",
      "-----------------------------------------\n",
      "| rollout/                |             |\n",
      "|    ep_len_mean          | 548         |\n",
      "|    ep_rew_mean          | 0.333       |\n",
      "| time/                   |             |\n",
      "|    fps                  | 194         |\n",
      "|    iterations           | 1           |\n",
      "|    time_elapsed         | 10          |\n",
      "|    total_timesteps      | 2048        |\n",
      "| train/                  |             |\n",
      "|    approx_kl            | 0.009136865 |\n",
      "|    clip_fraction        | 0.0893      |\n",
      "|    clip_range           | 0.2         |\n",
      "|    entropy_loss         | -1.33       |\n",
      "|    explained_variance   | 0.28        |\n",
      "|    learning_rate        | 0.0003      |\n",
      "|    loss                 | 0.986       |\n",
      "|    n_updates            | 70          |\n",
      "|    policy_gradient_loss | -0.0151     |\n",
      "|    value_loss           | 0.028       |\n",
      "-----------------------------------------\n",
      "\n",
      " Saved RL agent\n",
      "-----------------------------------------\n",
      "| rollout/                |             |\n",
      "|    ep_len_mean          | 629         |\n",
      "|    ep_rew_mean          | 0.667       |\n",
      "| time/                   |             |\n",
      "|    fps                  | 194         |\n",
      "|    iterations           | 1           |\n",
      "|    time_elapsed         | 10          |\n",
      "|    total_timesteps      | 2048        |\n",
      "| train/                  |             |\n",
      "|    approx_kl            | 0.002510163 |\n",
      "|    clip_fraction        | 0.088       |\n",
      "|    clip_range           | 0.2         |\n",
      "|    entropy_loss         | -1.33       |\n",
      "|    explained_variance   | -0.00975    |\n",
      "|    learning_rate        | 0.0003      |\n",
      "|    loss                 | 0.982       |\n",
      "|    n_updates            | 80          |\n",
      "|    policy_gradient_loss | -0.0128     |\n",
      "|    value_loss           | 0.00913     |\n",
      "-----------------------------------------\n",
      "\n",
      " Saved RL agent\n",
      "-----------------------------------------\n",
      "| rollout/                |             |\n",
      "|    ep_len_mean          | 650         |\n",
      "|    ep_rew_mean          | 1           |\n",
      "| time/                   |             |\n",
      "|    fps                  | 199         |\n",
      "|    iterations           | 1           |\n",
      "|    time_elapsed         | 10          |\n",
      "|    total_timesteps      | 2048        |\n",
      "| train/                  |             |\n",
      "|    approx_kl            | 0.005324074 |\n",
      "|    clip_fraction        | 0.117       |\n",
      "|    clip_range           | 0.2         |\n",
      "|    entropy_loss         | -1.32       |\n",
      "|    explained_variance   | 0.241       |\n",
      "|    learning_rate        | 0.0003      |\n",
      "|    loss                 | 0.973       |\n",
      "|    n_updates            | 90          |\n",
      "|    policy_gradient_loss | -0.0198     |\n",
      "|    value_loss           | 0.0102      |\n",
      "-----------------------------------------\n"
     ]
    },
    {
     "name": "stdout",
     "output_type": "stream",
     "text": [
      "\n",
      " Saved RL agent\n",
      "-----------------------------------------\n",
      "| rollout/                |             |\n",
      "|    ep_len_mean          | 631         |\n",
      "|    ep_rew_mean          | 1           |\n",
      "| time/                   |             |\n",
      "|    fps                  | 188         |\n",
      "|    iterations           | 1           |\n",
      "|    time_elapsed         | 10          |\n",
      "|    total_timesteps      | 2048        |\n",
      "| train/                  |             |\n",
      "|    approx_kl            | 0.012139659 |\n",
      "|    clip_fraction        | 0.184       |\n",
      "|    clip_range           | 0.2         |\n",
      "|    entropy_loss         | -1.32       |\n",
      "|    explained_variance   | 0.341       |\n",
      "|    learning_rate        | 0.0003      |\n",
      "|    loss                 | 0.949       |\n",
      "|    n_updates            | 100         |\n",
      "|    policy_gradient_loss | -0.0291     |\n",
      "|    value_loss           | 0.0116      |\n",
      "-----------------------------------------\n",
      "\n",
      " Saved RL agent\n",
      "-----------------------------------------\n",
      "| rollout/                |             |\n",
      "|    ep_len_mean          | 581         |\n",
      "|    ep_rew_mean          | 0.667       |\n",
      "| time/                   |             |\n",
      "|    fps                  | 187         |\n",
      "|    iterations           | 1           |\n",
      "|    time_elapsed         | 10          |\n",
      "|    total_timesteps      | 2048        |\n",
      "| train/                  |             |\n",
      "|    approx_kl            | 0.021056399 |\n",
      "|    clip_fraction        | 0.24        |\n",
      "|    clip_range           | 0.2         |\n",
      "|    entropy_loss         | -1.32       |\n",
      "|    explained_variance   | 0.285       |\n",
      "|    learning_rate        | 0.0003      |\n",
      "|    loss                 | 0.965       |\n",
      "|    n_updates            | 110         |\n",
      "|    policy_gradient_loss | -0.0309     |\n",
      "|    value_loss           | 0.012       |\n",
      "-----------------------------------------\n",
      "\n",
      " Saved RL agent\n",
      "-----------------------------------------\n",
      "| rollout/                |             |\n",
      "|    ep_len_mean          | 654         |\n",
      "|    ep_rew_mean          | 1.33        |\n",
      "| time/                   |             |\n",
      "|    fps                  | 147         |\n",
      "|    iterations           | 1           |\n",
      "|    time_elapsed         | 13          |\n",
      "|    total_timesteps      | 2048        |\n",
      "| train/                  |             |\n",
      "|    approx_kl            | 0.016125046 |\n",
      "|    clip_fraction        | 0.274       |\n",
      "|    clip_range           | 0.2         |\n",
      "|    entropy_loss         | -1.31       |\n",
      "|    explained_variance   | 0.359       |\n",
      "|    learning_rate        | 0.0003      |\n",
      "|    loss                 | 0.957       |\n",
      "|    n_updates            | 120         |\n",
      "|    policy_gradient_loss | -0.0239     |\n",
      "|    value_loss           | 0.0108      |\n",
      "-----------------------------------------\n",
      "\n",
      " Saved RL agent\n",
      "-----------------------------------------\n",
      "| rollout/                |             |\n",
      "|    ep_len_mean          | 580         |\n",
      "|    ep_rew_mean          | 0.667       |\n",
      "| time/                   |             |\n",
      "|    fps                  | 178         |\n",
      "|    iterations           | 1           |\n",
      "|    time_elapsed         | 11          |\n",
      "|    total_timesteps      | 2048        |\n",
      "| train/                  |             |\n",
      "|    approx_kl            | 0.033787146 |\n",
      "|    clip_fraction        | 0.328       |\n",
      "|    clip_range           | 0.2         |\n",
      "|    entropy_loss         | -1.3        |\n",
      "|    explained_variance   | 0.271       |\n",
      "|    learning_rate        | 0.0003      |\n",
      "|    loss                 | 0.973       |\n",
      "|    n_updates            | 130         |\n",
      "|    policy_gradient_loss | -0.0273     |\n",
      "|    value_loss           | 0.0164      |\n",
      "-----------------------------------------\n",
      "\n",
      " Saved RL agent\n",
      "-----------------------------------------\n",
      "| rollout/                |             |\n",
      "|    ep_len_mean          | 555         |\n",
      "|    ep_rew_mean          | 0.333       |\n",
      "| time/                   |             |\n",
      "|    fps                  | 187         |\n",
      "|    iterations           | 1           |\n",
      "|    time_elapsed         | 10          |\n",
      "|    total_timesteps      | 2048        |\n",
      "| train/                  |             |\n",
      "|    approx_kl            | 0.038794093 |\n",
      "|    clip_fraction        | 0.356       |\n",
      "|    clip_range           | 0.2         |\n",
      "|    entropy_loss         | -1.3        |\n",
      "|    explained_variance   | 0.322       |\n",
      "|    learning_rate        | 0.0003      |\n",
      "|    loss                 | 0.976       |\n",
      "|    n_updates            | 140         |\n",
      "|    policy_gradient_loss | -0.0246     |\n",
      "|    value_loss           | 0.011       |\n",
      "-----------------------------------------\n",
      "\n",
      " Saved RL agent\n",
      "----------------------------------------\n",
      "| rollout/                |            |\n",
      "|    ep_len_mean          | 563        |\n",
      "|    ep_rew_mean          | 0.5        |\n",
      "| time/                   |            |\n",
      "|    fps                  | 181        |\n",
      "|    iterations           | 1          |\n",
      "|    time_elapsed         | 11         |\n",
      "|    total_timesteps      | 2048       |\n",
      "| train/                  |            |\n",
      "|    approx_kl            | 0.04061847 |\n",
      "|    clip_fraction        | 0.4        |\n",
      "|    clip_range           | 0.2        |\n",
      "|    entropy_loss         | -1.29      |\n",
      "|    explained_variance   | 0.0919     |\n",
      "|    learning_rate        | 0.0003     |\n",
      "|    loss                 | 0.971      |\n",
      "|    n_updates            | 150        |\n",
      "|    policy_gradient_loss | -0.0323    |\n",
      "|    value_loss           | 0.00929    |\n",
      "----------------------------------------\n",
      "\n",
      " Saved RL agent\n",
      "-----------------------------------------\n",
      "| rollout/                |             |\n",
      "|    ep_len_mean          | 708         |\n",
      "|    ep_rew_mean          | 1.5         |\n",
      "| time/                   |             |\n",
      "|    fps                  | 159         |\n",
      "|    iterations           | 1           |\n",
      "|    time_elapsed         | 12          |\n",
      "|    total_timesteps      | 2048        |\n",
      "| train/                  |             |\n",
      "|    approx_kl            | 0.046619833 |\n",
      "|    clip_fraction        | 0.411       |\n",
      "|    clip_range           | 0.2         |\n",
      "|    entropy_loss         | -1.28       |\n",
      "|    explained_variance   | 0.286       |\n",
      "|    learning_rate        | 0.0003      |\n",
      "|    loss                 | 0.967       |\n",
      "|    n_updates            | 160         |\n",
      "|    policy_gradient_loss | -0.0338     |\n",
      "|    value_loss           | 0.0178      |\n",
      "-----------------------------------------\n",
      "\n",
      " Saved RL agent\n",
      "----------------------------------------\n",
      "| rollout/                |            |\n",
      "|    ep_len_mean          | 669        |\n",
      "|    ep_rew_mean          | 1          |\n",
      "| time/                   |            |\n",
      "|    fps                  | 186        |\n",
      "|    iterations           | 1          |\n",
      "|    time_elapsed         | 10         |\n",
      "|    total_timesteps      | 2048       |\n",
      "| train/                  |            |\n",
      "|    approx_kl            | 0.03327282 |\n",
      "|    clip_fraction        | 0.44       |\n",
      "|    clip_range           | 0.2        |\n",
      "|    entropy_loss         | -1.28      |\n",
      "|    explained_variance   | 0.286      |\n",
      "|    learning_rate        | 0.0003     |\n",
      "|    loss                 | 0.928      |\n",
      "|    n_updates            | 170        |\n",
      "|    policy_gradient_loss | -0.0322    |\n",
      "|    value_loss           | 0.0155     |\n",
      "----------------------------------------\n",
      "\n",
      " Saved RL agent\n",
      "----------------------------------------\n",
      "| rollout/                |            |\n",
      "|    ep_len_mean          | 839        |\n",
      "|    ep_rew_mean          | 2.5        |\n",
      "| time/                   |            |\n",
      "|    fps                  | 173        |\n",
      "|    iterations           | 1          |\n",
      "|    time_elapsed         | 11         |\n",
      "|    total_timesteps      | 2048       |\n",
      "| train/                  |            |\n",
      "|    approx_kl            | 0.04783895 |\n",
      "|    clip_fraction        | 0.458      |\n",
      "|    clip_range           | 0.2        |\n",
      "|    entropy_loss         | -1.29      |\n",
      "|    explained_variance   | 0.108      |\n",
      "|    learning_rate        | 0.0003     |\n",
      "|    loss                 | 0.957      |\n",
      "|    n_updates            | 180        |\n",
      "|    policy_gradient_loss | -0.0264    |\n",
      "|    value_loss           | 0.0151     |\n",
      "----------------------------------------\n",
      "\n",
      " Saved RL agent\n",
      "----------------------------------------\n",
      "| rollout/                |            |\n",
      "|    ep_len_mean          | 507        |\n",
      "|    ep_rew_mean          | 0          |\n",
      "| time/                   |            |\n",
      "|    fps                  | 188        |\n",
      "|    iterations           | 1          |\n",
      "|    time_elapsed         | 10         |\n",
      "|    total_timesteps      | 2048       |\n",
      "| train/                  |            |\n",
      "|    approx_kl            | 0.06191551 |\n",
      "|    clip_fraction        | 0.452      |\n",
      "|    clip_range           | 0.2        |\n",
      "|    entropy_loss         | -1.25      |\n",
      "|    explained_variance   | 0.262      |\n",
      "|    learning_rate        | 0.0003     |\n",
      "|    loss                 | 0.992      |\n",
      "|    n_updates            | 190        |\n",
      "|    policy_gradient_loss | -0.0241    |\n",
      "|    value_loss           | 0.0158     |\n",
      "----------------------------------------\n"
     ]
    },
    {
     "name": "stdout",
     "output_type": "stream",
     "text": [
      "\n",
      " Saved RL agent\n",
      "-----------------------------------------\n",
      "| rollout/                |             |\n",
      "|    ep_len_mean          | 726         |\n",
      "|    ep_rew_mean          | 1.5         |\n",
      "| time/                   |             |\n",
      "|    fps                  | 199         |\n",
      "|    iterations           | 1           |\n",
      "|    time_elapsed         | 10          |\n",
      "|    total_timesteps      | 2048        |\n",
      "| train/                  |             |\n",
      "|    approx_kl            | 0.041545942 |\n",
      "|    clip_fraction        | 0.458       |\n",
      "|    clip_range           | 0.2         |\n",
      "|    entropy_loss         | -1.27       |\n",
      "|    explained_variance   | -0.314      |\n",
      "|    learning_rate        | 0.0003      |\n",
      "|    loss                 | 0.948       |\n",
      "|    n_updates            | 200         |\n",
      "|    policy_gradient_loss | -0.0167     |\n",
      "|    value_loss           | 0.00608     |\n",
      "-----------------------------------------\n",
      "\n",
      " Saved RL agent\n",
      "-----------------------------------------\n",
      "| rollout/                |             |\n",
      "|    ep_len_mean          | 538         |\n",
      "|    ep_rew_mean          | 0.333       |\n",
      "| time/                   |             |\n",
      "|    fps                  | 178         |\n",
      "|    iterations           | 1           |\n",
      "|    time_elapsed         | 11          |\n",
      "|    total_timesteps      | 2048        |\n",
      "| train/                  |             |\n",
      "|    approx_kl            | 0.078289896 |\n",
      "|    clip_fraction        | 0.455       |\n",
      "|    clip_range           | 0.2         |\n",
      "|    entropy_loss         | -1.21       |\n",
      "|    explained_variance   | 0.261       |\n",
      "|    learning_rate        | 0.0003      |\n",
      "|    loss                 | 0.962       |\n",
      "|    n_updates            | 210         |\n",
      "|    policy_gradient_loss | -0.0294     |\n",
      "|    value_loss           | 0.0171      |\n",
      "-----------------------------------------\n",
      "\n",
      " Saved RL agent\n",
      "-----------------------------------------\n",
      "| rollout/                |             |\n",
      "|    ep_len_mean          | 601         |\n",
      "|    ep_rew_mean          | 0.667       |\n",
      "| time/                   |             |\n",
      "|    fps                  | 198         |\n",
      "|    iterations           | 1           |\n",
      "|    time_elapsed         | 10          |\n",
      "|    total_timesteps      | 2048        |\n",
      "| train/                  |             |\n",
      "|    approx_kl            | 0.052622795 |\n",
      "|    clip_fraction        | 0.491       |\n",
      "|    clip_range           | 0.2         |\n",
      "|    entropy_loss         | -1.24       |\n",
      "|    explained_variance   | 0.324       |\n",
      "|    learning_rate        | 0.0003      |\n",
      "|    loss                 | 1.02        |\n",
      "|    n_updates            | 220         |\n",
      "|    policy_gradient_loss | -0.0166     |\n",
      "|    value_loss           | 0.00835     |\n",
      "-----------------------------------------\n",
      "\n",
      " Saved RL agent\n",
      "----------------------------------------\n",
      "| rollout/                |            |\n",
      "|    ep_len_mean          | 636        |\n",
      "|    ep_rew_mean          | 1          |\n",
      "| time/                   |            |\n",
      "|    fps                  | 184        |\n",
      "|    iterations           | 1          |\n",
      "|    time_elapsed         | 11         |\n",
      "|    total_timesteps      | 2048       |\n",
      "| train/                  |            |\n",
      "|    approx_kl            | 0.08183229 |\n",
      "|    clip_fraction        | 0.513      |\n",
      "|    clip_range           | 0.2        |\n",
      "|    entropy_loss         | -1.23      |\n",
      "|    explained_variance   | 0.183      |\n",
      "|    learning_rate        | 0.0003     |\n",
      "|    loss                 | 0.971      |\n",
      "|    n_updates            | 230        |\n",
      "|    policy_gradient_loss | -0.022     |\n",
      "|    value_loss           | 0.00858    |\n",
      "----------------------------------------\n",
      "\n",
      " Saved RL agent\n",
      "----------------------------------------\n",
      "| rollout/                |            |\n",
      "|    ep_len_mean          | 572        |\n",
      "|    ep_rew_mean          | 0.667      |\n",
      "| time/                   |            |\n",
      "|    fps                  | 185        |\n",
      "|    iterations           | 1          |\n",
      "|    time_elapsed         | 11         |\n",
      "|    total_timesteps      | 2048       |\n",
      "| train/                  |            |\n",
      "|    approx_kl            | 0.08085769 |\n",
      "|    clip_fraction        | 0.512      |\n",
      "|    clip_range           | 0.2        |\n",
      "|    entropy_loss         | -1.22      |\n",
      "|    explained_variance   | 0.193      |\n",
      "|    learning_rate        | 0.0003     |\n",
      "|    loss                 | 0.975      |\n",
      "|    n_updates            | 240        |\n",
      "|    policy_gradient_loss | -0.0248    |\n",
      "|    value_loss           | 0.0121     |\n",
      "----------------------------------------\n",
      "\n",
      " Saved RL agent\n",
      "-----------------------------------------\n",
      "| rollout/                |             |\n",
      "|    ep_len_mean          | 863         |\n",
      "|    ep_rew_mean          | 2.5         |\n",
      "| time/                   |             |\n",
      "|    fps                  | 195         |\n",
      "|    iterations           | 1           |\n",
      "|    time_elapsed         | 10          |\n",
      "|    total_timesteps      | 2048        |\n",
      "| train/                  |             |\n",
      "|    approx_kl            | 0.057221994 |\n",
      "|    clip_fraction        | 0.514       |\n",
      "|    clip_range           | 0.2         |\n",
      "|    entropy_loss         | -1.23       |\n",
      "|    explained_variance   | 0.159       |\n",
      "|    learning_rate        | 0.0003      |\n",
      "|    loss                 | 0.974       |\n",
      "|    n_updates            | 250         |\n",
      "|    policy_gradient_loss | -0.0166     |\n",
      "|    value_loss           | 0.00844     |\n",
      "-----------------------------------------\n",
      "\n",
      " Saved RL agent\n",
      "----------------------------------------\n",
      "| rollout/                |            |\n",
      "|    ep_len_mean          | 633        |\n",
      "|    ep_rew_mean          | 1          |\n",
      "| time/                   |            |\n",
      "|    fps                  | 197        |\n",
      "|    iterations           | 1          |\n",
      "|    time_elapsed         | 10         |\n",
      "|    total_timesteps      | 2048       |\n",
      "| train/                  |            |\n",
      "|    approx_kl            | 0.07774658 |\n",
      "|    clip_fraction        | 0.523      |\n",
      "|    clip_range           | 0.2        |\n",
      "|    entropy_loss         | -1.22      |\n",
      "|    explained_variance   | 0.212      |\n",
      "|    learning_rate        | 0.0003     |\n",
      "|    loss                 | 0.948      |\n",
      "|    n_updates            | 260        |\n",
      "|    policy_gradient_loss | -0.0206    |\n",
      "|    value_loss           | 0.0198     |\n",
      "----------------------------------------\n",
      "\n",
      " Saved RL agent\n",
      "---------------------------------------\n",
      "| rollout/                |           |\n",
      "|    ep_len_mean          | 611       |\n",
      "|    ep_rew_mean          | 1         |\n",
      "| time/                   |           |\n",
      "|    fps                  | 191       |\n",
      "|    iterations           | 1         |\n",
      "|    time_elapsed         | 10        |\n",
      "|    total_timesteps      | 2048      |\n",
      "| train/                  |           |\n",
      "|    approx_kl            | 0.0720474 |\n",
      "|    clip_fraction        | 0.533     |\n",
      "|    clip_range           | 0.2       |\n",
      "|    entropy_loss         | -1.21     |\n",
      "|    explained_variance   | 0.273     |\n",
      "|    learning_rate        | 0.0003    |\n",
      "|    loss                 | 0.963     |\n",
      "|    n_updates            | 270       |\n",
      "|    policy_gradient_loss | -0.0292   |\n",
      "|    value_loss           | 0.0145    |\n",
      "---------------------------------------\n",
      "\n",
      " Saved RL agent\n",
      "---------------------------------------\n",
      "| rollout/                |           |\n",
      "|    ep_len_mean          | 614       |\n",
      "|    ep_rew_mean          | 1         |\n",
      "| time/                   |           |\n",
      "|    fps                  | 196       |\n",
      "|    iterations           | 1         |\n",
      "|    time_elapsed         | 10        |\n",
      "|    total_timesteps      | 2048      |\n",
      "| train/                  |           |\n",
      "|    approx_kl            | 0.1092006 |\n",
      "|    clip_fraction        | 0.539     |\n",
      "|    clip_range           | 0.2       |\n",
      "|    entropy_loss         | -1.2      |\n",
      "|    explained_variance   | 0.292     |\n",
      "|    learning_rate        | 0.0003    |\n",
      "|    loss                 | 0.967     |\n",
      "|    n_updates            | 280       |\n",
      "|    policy_gradient_loss | -0.0225   |\n",
      "|    value_loss           | 0.0124    |\n",
      "---------------------------------------\n",
      "\n",
      " Saved RL agent\n",
      "-----------------------------------------\n",
      "| rollout/                |             |\n",
      "|    ep_len_mean          | 593         |\n",
      "|    ep_rew_mean          | 0.667       |\n",
      "| time/                   |             |\n",
      "|    fps                  | 146         |\n",
      "|    iterations           | 1           |\n",
      "|    time_elapsed         | 13          |\n",
      "|    total_timesteps      | 2048        |\n",
      "| train/                  |             |\n",
      "|    approx_kl            | 0.104204044 |\n",
      "|    clip_fraction        | 0.536       |\n",
      "|    clip_range           | 0.2         |\n",
      "|    entropy_loss         | -1.19       |\n",
      "|    explained_variance   | 0.437       |\n",
      "|    learning_rate        | 0.0003      |\n",
      "|    loss                 | 0.999       |\n",
      "|    n_updates            | 290         |\n",
      "|    policy_gradient_loss | -0.0176     |\n",
      "|    value_loss           | 0.0105      |\n",
      "-----------------------------------------\n"
     ]
    },
    {
     "name": "stdout",
     "output_type": "stream",
     "text": [
      "\n",
      " Saved RL agent\n",
      "----------------------------------------\n",
      "| rollout/                |            |\n",
      "|    ep_len_mean          | 624        |\n",
      "|    ep_rew_mean          | 0.667      |\n",
      "| time/                   |            |\n",
      "|    fps                  | 196        |\n",
      "|    iterations           | 1          |\n",
      "|    time_elapsed         | 10         |\n",
      "|    total_timesteps      | 2048       |\n",
      "| train/                  |            |\n",
      "|    approx_kl            | 0.08789378 |\n",
      "|    clip_fraction        | 0.54       |\n",
      "|    clip_range           | 0.2        |\n",
      "|    entropy_loss         | -1.23      |\n",
      "|    explained_variance   | 0.324      |\n",
      "|    learning_rate        | 0.0003     |\n",
      "|    loss                 | 0.952      |\n",
      "|    n_updates            | 300        |\n",
      "|    policy_gradient_loss | -0.0215    |\n",
      "|    value_loss           | 0.00941    |\n",
      "----------------------------------------\n",
      "\n",
      " Saved RL agent\n",
      "---------------------------------------\n",
      "| rollout/                |           |\n",
      "|    ep_len_mean          | 527       |\n",
      "|    ep_rew_mean          | 0.333     |\n",
      "| time/                   |           |\n",
      "|    fps                  | 198       |\n",
      "|    iterations           | 1         |\n",
      "|    time_elapsed         | 10        |\n",
      "|    total_timesteps      | 2048      |\n",
      "| train/                  |           |\n",
      "|    approx_kl            | 0.1019579 |\n",
      "|    clip_fraction        | 0.557     |\n",
      "|    clip_range           | 0.2       |\n",
      "|    entropy_loss         | -1.22     |\n",
      "|    explained_variance   | 0.104     |\n",
      "|    learning_rate        | 0.0003    |\n",
      "|    loss                 | 1         |\n",
      "|    n_updates            | 310       |\n",
      "|    policy_gradient_loss | -0.0181   |\n",
      "|    value_loss           | 0.00942   |\n",
      "---------------------------------------\n",
      "\n",
      " Saved RL agent\n",
      "----------------------------------------\n",
      "| rollout/                |            |\n",
      "|    ep_len_mean          | 686        |\n",
      "|    ep_rew_mean          | 1          |\n",
      "| time/                   |            |\n",
      "|    fps                  | 194        |\n",
      "|    iterations           | 1          |\n",
      "|    time_elapsed         | 10         |\n",
      "|    total_timesteps      | 2048       |\n",
      "| train/                  |            |\n",
      "|    approx_kl            | 0.09754267 |\n",
      "|    clip_fraction        | 0.568      |\n",
      "|    clip_range           | 0.2        |\n",
      "|    entropy_loss         | -1.21      |\n",
      "|    explained_variance   | 0.337      |\n",
      "|    learning_rate        | 0.0003     |\n",
      "|    loss                 | 0.997      |\n",
      "|    n_updates            | 320        |\n",
      "|    policy_gradient_loss | -0.0141    |\n",
      "|    value_loss           | 0.00769    |\n",
      "----------------------------------------\n",
      "\n",
      " Saved RL agent\n",
      "----------------------------------------\n",
      "| rollout/                |            |\n",
      "|    ep_len_mean          | 634        |\n",
      "|    ep_rew_mean          | 1          |\n",
      "| time/                   |            |\n",
      "|    fps                  | 186        |\n",
      "|    iterations           | 1          |\n",
      "|    time_elapsed         | 10         |\n",
      "|    total_timesteps      | 2048       |\n",
      "| train/                  |            |\n",
      "|    approx_kl            | 0.11306384 |\n",
      "|    clip_fraction        | 0.568      |\n",
      "|    clip_range           | 0.2        |\n",
      "|    entropy_loss         | -1.21      |\n",
      "|    explained_variance   | 0.233      |\n",
      "|    learning_rate        | 0.0003     |\n",
      "|    loss                 | 0.986      |\n",
      "|    n_updates            | 330        |\n",
      "|    policy_gradient_loss | -0.0243    |\n",
      "|    value_loss           | 0.0121     |\n",
      "----------------------------------------\n",
      "\n",
      " Saved RL agent\n",
      "----------------------------------------\n",
      "| rollout/                |            |\n",
      "|    ep_len_mean          | 897        |\n",
      "|    ep_rew_mean          | 2.5        |\n",
      "| time/                   |            |\n",
      "|    fps                  | 181        |\n",
      "|    iterations           | 1          |\n",
      "|    time_elapsed         | 11         |\n",
      "|    total_timesteps      | 2048       |\n",
      "| train/                  |            |\n",
      "|    approx_kl            | 0.11045578 |\n",
      "|    clip_fraction        | 0.574      |\n",
      "|    clip_range           | 0.2        |\n",
      "|    entropy_loss         | -1.21      |\n",
      "|    explained_variance   | 0.236      |\n",
      "|    learning_rate        | 0.0003     |\n",
      "|    loss                 | 0.941      |\n",
      "|    n_updates            | 340        |\n",
      "|    policy_gradient_loss | -0.0159    |\n",
      "|    value_loss           | 0.0122     |\n",
      "----------------------------------------\n",
      "\n",
      " Saved RL agent\n",
      "-----------------------------------------\n",
      "| rollout/                |             |\n",
      "|    ep_len_mean          | 706         |\n",
      "|    ep_rew_mean          | 1.5         |\n",
      "| time/                   |             |\n",
      "|    fps                  | 189         |\n",
      "|    iterations           | 1           |\n",
      "|    time_elapsed         | 10          |\n",
      "|    total_timesteps      | 2048        |\n",
      "| train/                  |             |\n",
      "|    approx_kl            | 0.122634664 |\n",
      "|    clip_fraction        | 0.59        |\n",
      "|    clip_range           | 0.2         |\n",
      "|    entropy_loss         | -1.16       |\n",
      "|    explained_variance   | 0.148       |\n",
      "|    learning_rate        | 0.0003      |\n",
      "|    loss                 | 0.94        |\n",
      "|    n_updates            | 350         |\n",
      "|    policy_gradient_loss | -0.029      |\n",
      "|    value_loss           | 0.0192      |\n",
      "-----------------------------------------\n",
      "\n",
      " Saved RL agent\n",
      "----------------------------------------\n",
      "| rollout/                |            |\n",
      "|    ep_len_mean          | 796        |\n",
      "|    ep_rew_mean          | 2          |\n",
      "| time/                   |            |\n",
      "|    fps                  | 180        |\n",
      "|    iterations           | 1          |\n",
      "|    time_elapsed         | 11         |\n",
      "|    total_timesteps      | 2048       |\n",
      "| train/                  |            |\n",
      "|    approx_kl            | 0.12742516 |\n",
      "|    clip_fraction        | 0.588      |\n",
      "|    clip_range           | 0.2        |\n",
      "|    entropy_loss         | -1.15      |\n",
      "|    explained_variance   | 0.255      |\n",
      "|    learning_rate        | 0.0003     |\n",
      "|    loss                 | 0.95       |\n",
      "|    n_updates            | 360        |\n",
      "|    policy_gradient_loss | -0.0321    |\n",
      "|    value_loss           | 0.0175     |\n",
      "----------------------------------------\n",
      "\n",
      " Saved RL agent\n",
      "----------------------------------------\n",
      "| rollout/                |            |\n",
      "|    ep_len_mean          | 575        |\n",
      "|    ep_rew_mean          | 0.667      |\n",
      "| time/                   |            |\n",
      "|    fps                  | 190        |\n",
      "|    iterations           | 1          |\n",
      "|    time_elapsed         | 10         |\n",
      "|    total_timesteps      | 2048       |\n",
      "| train/                  |            |\n",
      "|    approx_kl            | 0.13526301 |\n",
      "|    clip_fraction        | 0.587      |\n",
      "|    clip_range           | 0.2        |\n",
      "|    entropy_loss         | -1.18      |\n",
      "|    explained_variance   | 0.271      |\n",
      "|    learning_rate        | 0.0003     |\n",
      "|    loss                 | 0.949      |\n",
      "|    n_updates            | 370        |\n",
      "|    policy_gradient_loss | -0.0214    |\n",
      "|    value_loss           | 0.0153     |\n",
      "----------------------------------------\n",
      "\n",
      " Saved RL agent\n",
      "----------------------------------------\n",
      "| rollout/                |            |\n",
      "|    ep_len_mean          | 948        |\n",
      "|    ep_rew_mean          | 3          |\n",
      "| time/                   |            |\n",
      "|    fps                  | 151        |\n",
      "|    iterations           | 1          |\n",
      "|    time_elapsed         | 13         |\n",
      "|    total_timesteps      | 2048       |\n",
      "| train/                  |            |\n",
      "|    approx_kl            | 0.12609693 |\n",
      "|    clip_fraction        | 0.595      |\n",
      "|    clip_range           | 0.2        |\n",
      "|    entropy_loss         | -1.18      |\n",
      "|    explained_variance   | 0.278      |\n",
      "|    learning_rate        | 0.0003     |\n",
      "|    loss                 | 0.993      |\n",
      "|    n_updates            | 380        |\n",
      "|    policy_gradient_loss | -0.0171    |\n",
      "|    value_loss           | 0.00886    |\n",
      "----------------------------------------\n",
      "\n",
      " Saved RL agent\n",
      "----------------------------------------\n",
      "| rollout/                |            |\n",
      "|    ep_len_mean          | 573        |\n",
      "|    ep_rew_mean          | 0.667      |\n",
      "| time/                   |            |\n",
      "|    fps                  | 165        |\n",
      "|    iterations           | 1          |\n",
      "|    time_elapsed         | 12         |\n",
      "|    total_timesteps      | 2048       |\n",
      "| train/                  |            |\n",
      "|    approx_kl            | 0.14706737 |\n",
      "|    clip_fraction        | 0.59       |\n",
      "|    clip_range           | 0.2        |\n",
      "|    entropy_loss         | -1.18      |\n",
      "|    explained_variance   | 0.381      |\n",
      "|    learning_rate        | 0.0003     |\n",
      "|    loss                 | 0.975      |\n",
      "|    n_updates            | 390        |\n",
      "|    policy_gradient_loss | -0.017     |\n",
      "|    value_loss           | 0.0191     |\n",
      "----------------------------------------\n"
     ]
    },
    {
     "name": "stdout",
     "output_type": "stream",
     "text": [
      "\n",
      " Saved RL agent\n",
      "----------------------------------------\n",
      "| rollout/                |            |\n",
      "|    ep_len_mean          | 647        |\n",
      "|    ep_rew_mean          | 1.33       |\n",
      "| time/                   |            |\n",
      "|    fps                  | 196        |\n",
      "|    iterations           | 1          |\n",
      "|    time_elapsed         | 10         |\n",
      "|    total_timesteps      | 2048       |\n",
      "| train/                  |            |\n",
      "|    approx_kl            | 0.14734626 |\n",
      "|    clip_fraction        | 0.605      |\n",
      "|    clip_range           | 0.2        |\n",
      "|    entropy_loss         | -1.19      |\n",
      "|    explained_variance   | 0.478      |\n",
      "|    learning_rate        | 0.0003     |\n",
      "|    loss                 | 0.982      |\n",
      "|    n_updates            | 400        |\n",
      "|    policy_gradient_loss | -0.00127   |\n",
      "|    value_loss           | 0.00956    |\n",
      "----------------------------------------\n",
      "\n",
      " Saved RL agent\n",
      "---------------------------------------\n",
      "| rollout/                |           |\n",
      "|    ep_len_mean          | 534       |\n",
      "|    ep_rew_mean          | 0.333     |\n",
      "| time/                   |           |\n",
      "|    fps                  | 195       |\n",
      "|    iterations           | 1         |\n",
      "|    time_elapsed         | 10        |\n",
      "|    total_timesteps      | 2048      |\n",
      "| train/                  |           |\n",
      "|    approx_kl            | 0.1513835 |\n",
      "|    clip_fraction        | 0.59      |\n",
      "|    clip_range           | 0.2       |\n",
      "|    entropy_loss         | -1.16     |\n",
      "|    explained_variance   | 0.496     |\n",
      "|    learning_rate        | 0.0003    |\n",
      "|    loss                 | 1.02      |\n",
      "|    n_updates            | 410       |\n",
      "|    policy_gradient_loss | -0.00803  |\n",
      "|    value_loss           | 0.0123    |\n",
      "---------------------------------------\n",
      "\n",
      " Saved RL agent\n",
      "-----------------------------------------\n",
      "| rollout/                |             |\n",
      "|    ep_len_mean          | 684         |\n",
      "|    ep_rew_mean          | 1.5         |\n",
      "| time/                   |             |\n",
      "|    fps                  | 191         |\n",
      "|    iterations           | 1           |\n",
      "|    time_elapsed         | 10          |\n",
      "|    total_timesteps      | 2048        |\n",
      "| train/                  |             |\n",
      "|    approx_kl            | 0.113523655 |\n",
      "|    clip_fraction        | 0.616       |\n",
      "|    clip_range           | 0.2         |\n",
      "|    entropy_loss         | -1.18       |\n",
      "|    explained_variance   | 0.138       |\n",
      "|    learning_rate        | 0.0003      |\n",
      "|    loss                 | 1.01        |\n",
      "|    n_updates            | 420         |\n",
      "|    policy_gradient_loss | -0.000124   |\n",
      "|    value_loss           | 0.00629     |\n",
      "-----------------------------------------\n",
      "\n",
      " Saved RL agent\n",
      "----------------------------------------\n",
      "| rollout/                |            |\n",
      "|    ep_len_mean          | 537        |\n",
      "|    ep_rew_mean          | 0.333      |\n",
      "| time/                   |            |\n",
      "|    fps                  | 200        |\n",
      "|    iterations           | 1          |\n",
      "|    time_elapsed         | 10         |\n",
      "|    total_timesteps      | 2048       |\n",
      "| train/                  |            |\n",
      "|    approx_kl            | 0.14849538 |\n",
      "|    clip_fraction        | 0.585      |\n",
      "|    clip_range           | 0.2        |\n",
      "|    entropy_loss         | -1.13      |\n",
      "|    explained_variance   | 0.368      |\n",
      "|    learning_rate        | 0.0003     |\n",
      "|    loss                 | 0.977      |\n",
      "|    n_updates            | 430        |\n",
      "|    policy_gradient_loss | -0.0113    |\n",
      "|    value_loss           | 0.0142     |\n",
      "----------------------------------------\n",
      "\n",
      " Saved RL agent\n",
      "----------------------------------------\n",
      "| rollout/                |            |\n",
      "|    ep_len_mean          | 616        |\n",
      "|    ep_rew_mean          | 1          |\n",
      "| time/                   |            |\n",
      "|    fps                  | 182        |\n",
      "|    iterations           | 1          |\n",
      "|    time_elapsed         | 11         |\n",
      "|    total_timesteps      | 2048       |\n",
      "| train/                  |            |\n",
      "|    approx_kl            | 0.14937311 |\n",
      "|    clip_fraction        | 0.61       |\n",
      "|    clip_range           | 0.2        |\n",
      "|    entropy_loss         | -1.15      |\n",
      "|    explained_variance   | 0.339      |\n",
      "|    learning_rate        | 0.0003     |\n",
      "|    loss                 | 1.02       |\n",
      "|    n_updates            | 440        |\n",
      "|    policy_gradient_loss | -0.0175    |\n",
      "|    value_loss           | 0.0122     |\n",
      "----------------------------------------\n",
      "\n",
      " Saved RL agent\n",
      "----------------------------------------\n",
      "| rollout/                |            |\n",
      "|    ep_len_mean          | 680        |\n",
      "|    ep_rew_mean          | 1.5        |\n",
      "| time/                   |            |\n",
      "|    fps                  | 190        |\n",
      "|    iterations           | 1          |\n",
      "|    time_elapsed         | 10         |\n",
      "|    total_timesteps      | 2048       |\n",
      "| train/                  |            |\n",
      "|    approx_kl            | 0.14881998 |\n",
      "|    clip_fraction        | 0.596      |\n",
      "|    clip_range           | 0.2        |\n",
      "|    entropy_loss         | -1.15      |\n",
      "|    explained_variance   | 0.471      |\n",
      "|    learning_rate        | 0.0003     |\n",
      "|    loss                 | 0.955      |\n",
      "|    n_updates            | 450        |\n",
      "|    policy_gradient_loss | -0.00298   |\n",
      "|    value_loss           | 0.0103     |\n",
      "----------------------------------------\n",
      "\n",
      " Saved RL agent\n",
      "----------------------------------------\n",
      "| rollout/                |            |\n",
      "|    ep_len_mean          | 575        |\n",
      "|    ep_rew_mean          | 0.667      |\n",
      "| time/                   |            |\n",
      "|    fps                  | 168        |\n",
      "|    iterations           | 1          |\n",
      "|    time_elapsed         | 12         |\n",
      "|    total_timesteps      | 2048       |\n",
      "| train/                  |            |\n",
      "|    approx_kl            | 0.15535878 |\n",
      "|    clip_fraction        | 0.606      |\n",
      "|    clip_range           | 0.2        |\n",
      "|    entropy_loss         | -1.12      |\n",
      "|    explained_variance   | 0.417      |\n",
      "|    learning_rate        | 0.0003     |\n",
      "|    loss                 | 0.998      |\n",
      "|    n_updates            | 460        |\n",
      "|    policy_gradient_loss | -0.0127    |\n",
      "|    value_loss           | 0.0168     |\n",
      "----------------------------------------\n",
      "\n",
      " Saved RL agent\n",
      "----------------------------------------\n",
      "| rollout/                |            |\n",
      "|    ep_len_mean          | 892        |\n",
      "|    ep_rew_mean          | 2.5        |\n",
      "| time/                   |            |\n",
      "|    fps                  | 196        |\n",
      "|    iterations           | 1          |\n",
      "|    time_elapsed         | 10         |\n",
      "|    total_timesteps      | 2048       |\n",
      "| train/                  |            |\n",
      "|    approx_kl            | 0.13071263 |\n",
      "|    clip_fraction        | 0.602      |\n",
      "|    clip_range           | 0.2        |\n",
      "|    entropy_loss         | -1.14      |\n",
      "|    explained_variance   | 0.555      |\n",
      "|    learning_rate        | 0.0003     |\n",
      "|    loss                 | 0.985      |\n",
      "|    n_updates            | 470        |\n",
      "|    policy_gradient_loss | 0.00662    |\n",
      "|    value_loss           | 0.0104     |\n",
      "----------------------------------------\n",
      "\n",
      " Saved RL agent\n",
      "----------------------------------------\n",
      "| rollout/                |            |\n",
      "|    ep_len_mean          | 616        |\n",
      "|    ep_rew_mean          | 1          |\n",
      "| time/                   |            |\n",
      "|    fps                  | 198        |\n",
      "|    iterations           | 1          |\n",
      "|    time_elapsed         | 10         |\n",
      "|    total_timesteps      | 2048       |\n",
      "| train/                  |            |\n",
      "|    approx_kl            | 0.15315294 |\n",
      "|    clip_fraction        | 0.616      |\n",
      "|    clip_range           | 0.2        |\n",
      "|    entropy_loss         | -1.13      |\n",
      "|    explained_variance   | 0.381      |\n",
      "|    learning_rate        | 0.0003     |\n",
      "|    loss                 | 1.02       |\n",
      "|    n_updates            | 480        |\n",
      "|    policy_gradient_loss | -0.00218   |\n",
      "|    value_loss           | 0.0187     |\n",
      "----------------------------------------\n",
      "\n",
      " Saved RL agent\n",
      "----------------------------------------\n",
      "| rollout/                |            |\n",
      "|    ep_len_mean          | 572        |\n",
      "|    ep_rew_mean          | 0.667      |\n",
      "| time/                   |            |\n",
      "|    fps                  | 200        |\n",
      "|    iterations           | 1          |\n",
      "|    time_elapsed         | 10         |\n",
      "|    total_timesteps      | 2048       |\n",
      "| train/                  |            |\n",
      "|    approx_kl            | 0.13893849 |\n",
      "|    clip_fraction        | 0.606      |\n",
      "|    clip_range           | 0.2        |\n",
      "|    entropy_loss         | -1.13      |\n",
      "|    explained_variance   | 0.491      |\n",
      "|    learning_rate        | 0.0003     |\n",
      "|    loss                 | 0.975      |\n",
      "|    n_updates            | 490        |\n",
      "|    policy_gradient_loss | 0.00396    |\n",
      "|    value_loss           | 0.00979    |\n",
      "----------------------------------------\n"
     ]
    },
    {
     "name": "stdout",
     "output_type": "stream",
     "text": [
      "\n",
      " Saved RL agent\n",
      "Filling buffer with 1000 samples\n"
     ]
    },
    {
     "name": "stderr",
     "output_type": "stream",
     "text": [
      "100%|██████████| 1000/1000 [00:04<00:00, 215.11it/s]\n"
     ]
    }
   ],
   "source": [
    "import sys, os\n",
    "from tqdm import tqdm\n",
    "sys.path.append(\"C:/Users/jabad/Documents/Tuebingen/DataCompression/DataCompression\")\n",
    "sys.path.append(os.getcwd())\n",
    "from DataCompression.src.training_loop import Trainer\n",
    "from DataCompression.src.decoder_MSE import Decoder, CNN_AE\n",
    "from DataCompression.src.metric import evaluate\n",
    "\n",
    "config = {\n",
    "# \"rl_agent_train_steps\": 1,\n",
    "# \"decoder_train_steps\":10,\n",
    "\"buffer_size\": 1000,\n",
    "\"save_path\": \"C:/Users/jabad/Documents/Tuebingen/DataCompression/DataCompression/exp/Test_24_07\", \n",
    "\"alpha\": 1e-4\n",
    "}\n",
    "\n",
    "train_steps = 50000  # 10000?\n",
    "\n",
    "mytrainer = Trainer(**config)\n",
    "mytrainer.train_rl_agent(train_steps, save_every=1000)\n",
    "mytrainer.fill_buffer(1000)\n"
   ]
  },
  {
   "cell_type": "code",
   "execution_count": 2,
   "metadata": {},
   "outputs": [
    {
     "name": "stdout",
     "output_type": "stream",
     "text": [
      "Training decoder for 1000 epochs\n"
     ]
    },
    {
     "name": "stderr",
     "output_type": "stream",
     "text": [
      "\r",
      "  0%|          | 0/1000 [00:00<?, ?it/s]"
     ]
    },
    {
     "name": "stdout",
     "output_type": "stream",
     "text": [
      "\n",
      " epoch : 1/1000, loss = 57.816411\n"
     ]
    },
    {
     "name": "stderr",
     "output_type": "stream",
     "text": [
      " 10%|█         | 100/1000 [00:30<04:21,  3.45it/s]"
     ]
    },
    {
     "name": "stdout",
     "output_type": "stream",
     "text": [
      "\n",
      " epoch : 101/1000, loss = 57.818979\n"
     ]
    },
    {
     "name": "stderr",
     "output_type": "stream",
     "text": [
      " 20%|██        | 200/1000 [01:00<03:53,  3.42it/s]"
     ]
    },
    {
     "name": "stdout",
     "output_type": "stream",
     "text": [
      "\n",
      " epoch : 201/1000, loss = 57.795596\n"
     ]
    },
    {
     "name": "stderr",
     "output_type": "stream",
     "text": [
      " 30%|███       | 300/1000 [01:31<03:25,  3.41it/s]"
     ]
    },
    {
     "name": "stdout",
     "output_type": "stream",
     "text": [
      "\n",
      " epoch : 301/1000, loss = 57.743594\n"
     ]
    },
    {
     "name": "stderr",
     "output_type": "stream",
     "text": [
      " 40%|████      | 400/1000 [02:01<02:50,  3.52it/s]"
     ]
    },
    {
     "name": "stdout",
     "output_type": "stream",
     "text": [
      "\n",
      " epoch : 401/1000, loss = 57.771206\n"
     ]
    },
    {
     "name": "stderr",
     "output_type": "stream",
     "text": [
      " 50%|█████     | 500/1000 [02:31<02:23,  3.48it/s]"
     ]
    },
    {
     "name": "stdout",
     "output_type": "stream",
     "text": [
      "\n",
      " epoch : 501/1000, loss = 57.776582\n"
     ]
    },
    {
     "name": "stderr",
     "output_type": "stream",
     "text": [
      " 60%|██████    | 600/1000 [03:01<02:05,  3.18it/s]"
     ]
    },
    {
     "name": "stdout",
     "output_type": "stream",
     "text": [
      "\n",
      " epoch : 601/1000, loss = 57.721919\n"
     ]
    },
    {
     "name": "stderr",
     "output_type": "stream",
     "text": [
      " 70%|███████   | 700/1000 [03:34<01:41,  2.97it/s]"
     ]
    },
    {
     "name": "stdout",
     "output_type": "stream",
     "text": [
      "\n",
      " epoch : 701/1000, loss = 57.795420\n"
     ]
    },
    {
     "name": "stderr",
     "output_type": "stream",
     "text": [
      " 80%|████████  | 800/1000 [04:07<00:57,  3.49it/s]"
     ]
    },
    {
     "name": "stdout",
     "output_type": "stream",
     "text": [
      "\n",
      " epoch : 801/1000, loss = 57.757056\n"
     ]
    },
    {
     "name": "stderr",
     "output_type": "stream",
     "text": [
      " 90%|█████████ | 900/1000 [04:38<00:29,  3.34it/s]"
     ]
    },
    {
     "name": "stdout",
     "output_type": "stream",
     "text": [
      "\n",
      " epoch : 901/1000, loss = 57.698076\n"
     ]
    },
    {
     "name": "stderr",
     "output_type": "stream",
     "text": [
      "100%|██████████| 1000/1000 [05:10<00:00,  3.22it/s]\n"
     ]
    },
    {
     "name": "stdout",
     "output_type": "stream",
     "text": [
      "Training decoder for 1000 epochs\n"
     ]
    },
    {
     "name": "stderr",
     "output_type": "stream",
     "text": [
      "\r",
      "  0%|          | 0/1000 [00:00<?, ?it/s]"
     ]
    },
    {
     "name": "stdout",
     "output_type": "stream",
     "text": [
      "\n",
      " epoch : 1/1000, loss = 57.716792\n"
     ]
    },
    {
     "name": "stderr",
     "output_type": "stream",
     "text": [
      " 10%|█         | 100/1000 [00:31<04:31,  3.31it/s]"
     ]
    },
    {
     "name": "stdout",
     "output_type": "stream",
     "text": [
      "\n",
      " epoch : 101/1000, loss = 57.712773\n"
     ]
    },
    {
     "name": "stderr",
     "output_type": "stream",
     "text": [
      " 20%|██        | 200/1000 [01:02<04:13,  3.15it/s]"
     ]
    },
    {
     "name": "stdout",
     "output_type": "stream",
     "text": [
      "\n",
      " epoch : 201/1000, loss = 57.735913\n"
     ]
    },
    {
     "name": "stderr",
     "output_type": "stream",
     "text": [
      " 30%|███       | 300/1000 [01:36<03:39,  3.19it/s]"
     ]
    },
    {
     "name": "stdout",
     "output_type": "stream",
     "text": [
      "\n",
      " epoch : 301/1000, loss = 57.646890\n"
     ]
    },
    {
     "name": "stderr",
     "output_type": "stream",
     "text": [
      " 40%|████      | 400/1000 [02:05<02:59,  3.35it/s]"
     ]
    },
    {
     "name": "stdout",
     "output_type": "stream",
     "text": [
      "\n",
      " epoch : 401/1000, loss = 57.670151\n"
     ]
    },
    {
     "name": "stderr",
     "output_type": "stream",
     "text": [
      " 50%|█████     | 500/1000 [02:37<02:30,  3.32it/s]"
     ]
    },
    {
     "name": "stdout",
     "output_type": "stream",
     "text": [
      "\n",
      " epoch : 501/1000, loss = 57.703628\n"
     ]
    },
    {
     "name": "stderr",
     "output_type": "stream",
     "text": [
      " 60%|██████    | 600/1000 [03:08<02:05,  3.19it/s]"
     ]
    },
    {
     "name": "stdout",
     "output_type": "stream",
     "text": [
      "\n",
      " epoch : 601/1000, loss = 57.611260\n"
     ]
    },
    {
     "name": "stderr",
     "output_type": "stream",
     "text": [
      " 70%|███████   | 700/1000 [03:39<01:25,  3.52it/s]"
     ]
    },
    {
     "name": "stdout",
     "output_type": "stream",
     "text": [
      "\n",
      " epoch : 701/1000, loss = 57.665205\n"
     ]
    },
    {
     "name": "stderr",
     "output_type": "stream",
     "text": [
      " 80%|████████  | 800/1000 [04:09<00:59,  3.38it/s]"
     ]
    },
    {
     "name": "stdout",
     "output_type": "stream",
     "text": [
      "\n",
      " epoch : 801/1000, loss = 57.594785\n"
     ]
    },
    {
     "name": "stderr",
     "output_type": "stream",
     "text": [
      " 90%|█████████ | 900/1000 [04:40<00:31,  3.21it/s]"
     ]
    },
    {
     "name": "stdout",
     "output_type": "stream",
     "text": [
      "\n",
      " epoch : 901/1000, loss = 57.601831\n"
     ]
    },
    {
     "name": "stderr",
     "output_type": "stream",
     "text": [
      "100%|██████████| 1000/1000 [05:11<00:00,  3.21it/s]\n"
     ]
    },
    {
     "name": "stdout",
     "output_type": "stream",
     "text": [
      "Training decoder for 1000 epochs\n"
     ]
    },
    {
     "name": "stderr",
     "output_type": "stream",
     "text": [
      "\r",
      "  0%|          | 0/1000 [00:00<?, ?it/s]"
     ]
    },
    {
     "name": "stdout",
     "output_type": "stream",
     "text": [
      "\n",
      " epoch : 1/1000, loss = 57.634404\n"
     ]
    },
    {
     "name": "stderr",
     "output_type": "stream",
     "text": [
      " 10%|█         | 100/1000 [00:31<04:45,  3.15it/s]"
     ]
    },
    {
     "name": "stdout",
     "output_type": "stream",
     "text": [
      "\n",
      " epoch : 101/1000, loss = 57.603467\n"
     ]
    },
    {
     "name": "stderr",
     "output_type": "stream",
     "text": [
      " 20%|██        | 200/1000 [01:03<04:07,  3.24it/s]"
     ]
    },
    {
     "name": "stdout",
     "output_type": "stream",
     "text": [
      "\n",
      " epoch : 201/1000, loss = 57.597900\n"
     ]
    },
    {
     "name": "stderr",
     "output_type": "stream",
     "text": [
      " 30%|███       | 300/1000 [01:35<03:16,  3.56it/s]"
     ]
    },
    {
     "name": "stdout",
     "output_type": "stream",
     "text": [
      "\n",
      " epoch : 301/1000, loss = 57.592842\n"
     ]
    },
    {
     "name": "stderr",
     "output_type": "stream",
     "text": [
      " 40%|████      | 400/1000 [02:04<02:48,  3.57it/s]"
     ]
    },
    {
     "name": "stdout",
     "output_type": "stream",
     "text": [
      "\n",
      " epoch : 401/1000, loss = 57.569956\n"
     ]
    },
    {
     "name": "stderr",
     "output_type": "stream",
     "text": [
      " 50%|█████     | 500/1000 [02:34<02:20,  3.56it/s]"
     ]
    },
    {
     "name": "stdout",
     "output_type": "stream",
     "text": [
      "\n",
      " epoch : 501/1000, loss = 57.535791\n"
     ]
    },
    {
     "name": "stderr",
     "output_type": "stream",
     "text": [
      " 60%|██████    | 600/1000 [03:04<02:05,  3.19it/s]"
     ]
    },
    {
     "name": "stdout",
     "output_type": "stream",
     "text": [
      "\n",
      " epoch : 601/1000, loss = 57.564131\n"
     ]
    },
    {
     "name": "stderr",
     "output_type": "stream",
     "text": [
      " 70%|███████   | 700/1000 [03:34<01:25,  3.52it/s]"
     ]
    },
    {
     "name": "stdout",
     "output_type": "stream",
     "text": [
      "\n",
      " epoch : 701/1000, loss = 57.511670\n"
     ]
    },
    {
     "name": "stderr",
     "output_type": "stream",
     "text": [
      " 80%|████████  | 800/1000 [04:03<00:56,  3.52it/s]"
     ]
    },
    {
     "name": "stdout",
     "output_type": "stream",
     "text": [
      "\n",
      " epoch : 801/1000, loss = 57.546641\n"
     ]
    },
    {
     "name": "stderr",
     "output_type": "stream",
     "text": [
      " 90%|█████████ | 900/1000 [04:32<00:28,  3.54it/s]"
     ]
    },
    {
     "name": "stdout",
     "output_type": "stream",
     "text": [
      "\n",
      " epoch : 901/1000, loss = 57.527505\n"
     ]
    },
    {
     "name": "stderr",
     "output_type": "stream",
     "text": [
      "100%|██████████| 1000/1000 [05:02<00:00,  3.31it/s]\n"
     ]
    },
    {
     "name": "stdout",
     "output_type": "stream",
     "text": [
      "Training decoder for 1000 epochs\n"
     ]
    },
    {
     "name": "stderr",
     "output_type": "stream",
     "text": [
      "\r",
      "  0%|          | 0/1000 [00:00<?, ?it/s]"
     ]
    },
    {
     "name": "stdout",
     "output_type": "stream",
     "text": [
      "\n",
      " epoch : 1/1000, loss = 57.527095\n"
     ]
    },
    {
     "name": "stderr",
     "output_type": "stream",
     "text": [
      " 10%|█         | 100/1000 [00:30<04:10,  3.59it/s]"
     ]
    },
    {
     "name": "stdout",
     "output_type": "stream",
     "text": [
      "\n",
      " epoch : 101/1000, loss = 57.473721\n"
     ]
    },
    {
     "name": "stderr",
     "output_type": "stream",
     "text": [
      " 20%|██        | 200/1000 [00:59<03:44,  3.57it/s]"
     ]
    },
    {
     "name": "stdout",
     "output_type": "stream",
     "text": [
      "\n",
      " epoch : 201/1000, loss = 57.457964\n"
     ]
    },
    {
     "name": "stderr",
     "output_type": "stream",
     "text": [
      " 30%|███       | 300/1000 [01:29<03:18,  3.52it/s]"
     ]
    },
    {
     "name": "stdout",
     "output_type": "stream",
     "text": [
      "\n",
      " epoch : 301/1000, loss = 57.434756\n"
     ]
    },
    {
     "name": "stderr",
     "output_type": "stream",
     "text": [
      " 40%|████      | 400/1000 [01:58<02:47,  3.57it/s]"
     ]
    },
    {
     "name": "stdout",
     "output_type": "stream",
     "text": [
      "\n",
      " epoch : 401/1000, loss = 57.546880\n"
     ]
    },
    {
     "name": "stderr",
     "output_type": "stream",
     "text": [
      " 50%|█████     | 500/1000 [02:27<02:22,  3.51it/s]"
     ]
    },
    {
     "name": "stdout",
     "output_type": "stream",
     "text": [
      "\n",
      " epoch : 501/1000, loss = 57.452983\n"
     ]
    },
    {
     "name": "stderr",
     "output_type": "stream",
     "text": [
      " 60%|██████    | 600/1000 [02:57<01:53,  3.53it/s]"
     ]
    },
    {
     "name": "stdout",
     "output_type": "stream",
     "text": [
      "\n",
      " epoch : 601/1000, loss = 57.452754\n"
     ]
    },
    {
     "name": "stderr",
     "output_type": "stream",
     "text": [
      " 70%|███████   | 700/1000 [03:26<01:25,  3.52it/s]"
     ]
    },
    {
     "name": "stdout",
     "output_type": "stream",
     "text": [
      "\n",
      " epoch : 701/1000, loss = 57.297534\n"
     ]
    },
    {
     "name": "stderr",
     "output_type": "stream",
     "text": [
      " 80%|████████  | 800/1000 [03:56<01:04,  3.08it/s]"
     ]
    },
    {
     "name": "stdout",
     "output_type": "stream",
     "text": [
      "\n",
      " epoch : 801/1000, loss = 57.401733\n"
     ]
    },
    {
     "name": "stderr",
     "output_type": "stream",
     "text": [
      " 90%|█████████ | 900/1000 [04:26<00:28,  3.45it/s]"
     ]
    },
    {
     "name": "stdout",
     "output_type": "stream",
     "text": [
      "\n",
      " epoch : 901/1000, loss = 57.413853\n"
     ]
    },
    {
     "name": "stderr",
     "output_type": "stream",
     "text": [
      "100%|██████████| 1000/1000 [04:55<00:00,  3.39it/s]\n"
     ]
    }
   ],
   "source": [
    "decoder_epochs = 4000  # total = 4000\n",
    "loss = mytrainer.train_Decoder(decoder_epochs, 100, save_every=1000)"
   ]
  },
  {
   "cell_type": "code",
   "execution_count": 8,
   "metadata": {},
   "outputs": [
    {
     "name": "stdout",
     "output_type": "stream",
     "text": [
      "The mean entropy of each latent dim is: 0.00616544390985795\n",
      "The L2-loss in image space is: 5738.947265625\n",
      "The L2-loss in agent space is: 0.10811761021614075\n"
     ]
    },
    {
     "data": {
      "text/plain": [
       "(0.00616544390985795, 5738.947265625, 0.10811761021614075)"
      ]
     },
     "execution_count": 8,
     "metadata": {},
     "output_type": "execute_result"
    }
   ],
   "source": [
    "decoder = mytrainer._Decoder.model\n",
    "encoder = mytrainer._rl_agent.policy.features_extractor\n",
    "buffer = mytrainer._buffer\n",
    "flattened = True\n",
    "n_digits = 3\n",
    "\n",
    "evaluate(encoder, decoder, buffer, flattened, n_digits)"
   ]
  },
  {
   "cell_type": "code",
   "execution_count": 9,
   "metadata": {},
   "outputs": [],
   "source": [
    "import torch\n",
    "test_images, test_latents = buffer.get_all()\n",
    "test_images_encoder = torch.reshape(test_images, (test_images.shape[0], 3, 210, 160))\n",
    "# forward pass of images\n",
    "latents = encoder(test_images_encoder)[0]\n",
    "latents = torch.round(latents * 10**n_digits) / (10**n_digits)\n",
    "reconstructed = decoder(latents)"
   ]
  },
  {
   "cell_type": "code",
   "execution_count": 10,
   "metadata": {},
   "outputs": [
    {
     "data": {
      "image/png": "[encoded data removed]",
      "text/plain": [
       "<Figure size 432x288 with 2 Axes>"
      ]
     },
     "metadata": {
      "needs_background": "light"
     },
     "output_type": "display_data"
    }
   ],
   "source": [
    "import matplotlib.pyplot as plt\n",
    "fig, axs = plt.subplots(1, 2)\n",
    "reconstructed_reshaped = torch.reshape(reconstructed, (test_images.shape[0], 3, 210, 160)).detach().type(torch.int)\n",
    "test_images_int = test_images_encoder.type(torch.int)\n",
    "\n",
    "for i, (orig_image, recon_image) in enumerate(zip(test_images_int, reconstructed_reshaped)):\n",
    "    axs[0].set_title(\"Reconstructed image\")\n",
    "    axs[1].set_title(\"Original image\")\n",
    "    axs[0].imshow(recon_image.permute(1, 2, 0))\n",
    "    axs[1].imshow(orig_image.permute(1, 2, 0))\n",
    "    if i % 100 == 0:\n",
    "        fig.savefig('C:/Users/jabad/Documents/Tuebingen/DataCompression/DataCompression/exp/Test_24_07/orig_reconstructed' + str(i / 100) + '.png')\n",
    "    if i >= 1000:\n",
    "        break"
   ]
  },
  {
   "cell_type": "code",
   "execution_count": null,
   "metadata": {},
   "outputs": [],
   "source": [
    "import time\n",
    "def train_with_rl(buffer, encoder, epochs=1000, batch_size=56):\n",
    "    # ----------------------\n",
    "    model = CNN_AE(in_dims=(1, 128, 1), out_dims=(3, 210, 160))\n",
    "    criterion = torch.nn.MSELoss()\n",
    "    optimizer = torch.optim.Adam(model.parameters())\n",
    "    # -----------------------\n",
    "    print(f\"Training decoder for {epochs} epochs\")\n",
    "    time.sleep(1)  # to avoid printstream clashing with progressbar\n",
    "    # input as numpy arrays, change to tensors\n",
    "    # orig_images = torch.from_numpy(orig_images).float()\n",
    "    # lat_images = torch.from_numpy(lat_images).float()\n",
    "\n",
    "    # train\n",
    "    epoch_losses = []\n",
    "    for epoch in tqdm(range(epochs)):\n",
    "        orig_images, lat_images = buffer.sample(batch_size)  # TODO: replace by minibatch sampling\n",
    "        orig_images = torch.reshape(orig_images, (len(orig_images), 3, 210, 160))\n",
    "        total_loss = 0\n",
    "        # for (orig, latent) in zip(orig_images, lat_images):\n",
    "\n",
    "        # reset the gradients to zero\n",
    "        optimizer.zero_grad()\n",
    "\n",
    "        # compute reconstructions\n",
    "        lat_images = torch.unsqueeze(torch.unsqueeze(lat_images, 1), -1)\n",
    "        outputs = model(lat_images)\n",
    "\n",
    "        lat_reconstructed = encoder(outputs)\n",
    "\n",
    "        # compute reconstruction loss\n",
    "        lat_images = torch.squeeze(torch.squeeze(lat_images, 1), -1)\n",
    "        if epoch < 10000:\n",
    "            loss = criterion(orig_images, outputs)\n",
    "        else:\n",
    "            loss = criterion(lat_images, lat_reconstructed)\n",
    "\n",
    "\n",
    "        # compute gradients\n",
    "        loss.backward()\n",
    "\n",
    "        # perform parameter update\n",
    "        optimizer.step()\n",
    "\n",
    "        # add this images's loss to epoch losses (loss per image normalized)\n",
    "        epoch_losses.append(loss.item() / batch_size)\n",
    "\n",
    "        # display the epoch training loss\n",
    "        if epoch % 100 == 0:\n",
    "            print(\"\\n epoch : {}/{}, loss = {:.6f}\".format(epoch + 1, epochs, epoch_losses[-1]))\n",
    "            time.sleep(1)  # to avoid printstream clashing with progressbar\n",
    "                \n",
    "    return epoch_losses, model"
   ]
  },
  {
   "cell_type": "code",
   "execution_count": null,
   "metadata": {},
   "outputs": [],
   "source": [
    "rl_retrained_losses, rl_model = train_with_rl(mytrainer._buffer, mytrainer._rl_agent.policy.features_extractor, epochs=13000)"
   ]
  },
  {
   "cell_type": "code",
   "execution_count": null,
   "metadata": {},
   "outputs": [],
   "source": [
    "reconstructed = rl_model(torch.unsqueeze(torch.unsqueeze(latents, 1), -1))"
   ]
  },
  {
   "cell_type": "code",
   "execution_count": null,
   "metadata": {},
   "outputs": [],
   "source": [
    "fig, axs = plt.subplots(1, 2)\n",
    "reconstructed_reshaped = torch.reshape(reconstructed, (test_images.shape[0], 3, 210, 160)).detach().type(torch.int)\n",
    "\n",
    "for i, (orig_image, recon_image) in enumerate(zip(test_images_int, reconstructed_reshaped)):\n",
    "    axs[0].set_title(\"Reconstructed image\")\n",
    "    axs[1].set_title(\"Original image\")\n",
    "    axs[0].imshow(recon_image.permute(1, 2, 0))\n",
    "    axs[1].imshow(orig_image.permute(1, 2, 0))\n",
    "    if i % 100 == 0:\n",
    "        fig.savefig('orig_reconstructed_rl' + str(i / 100) + '.png')\n",
    "    if i >= 1000:\n",
    "        break"
   ]
  },
  {
   "cell_type": "code",
   "execution_count": null,
   "metadata": {},
   "outputs": [],
   "source": []
  }
 ],
 "metadata": {
  "interpreter": {
   "hash": "4b5be0c7d8816b0411dd8381c01b6ac4b538687487d40264816f7c3f94b5666c"
  },
  "kernelspec": {
   "display_name": "Python 3",
   "language": "python",
   "name": "python3"
  },
  "language_info": {
   "codemirror_mode": {
    "name": "ipython",
    "version": 3
   },
   "file_extension": ".py",
   "mimetype": "text/x-python",
   "name": "python",
   "nbconvert_exporter": "python",
   "pygments_lexer": "ipython3",
   "version": "3.7.0"
  }
 },
 "nbformat": 4,
 "nbformat_minor": 2
}
