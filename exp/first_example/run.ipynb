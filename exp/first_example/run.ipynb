{
 "metadata": {
  "language_info": {
   "codemirror_mode": {
    "name": "ipython",
    "version": 3
   },
   "file_extension": ".py",
   "mimetype": "text/x-python",
   "name": "python",
   "nbconvert_exporter": "python",
   "pygments_lexer": "ipython3",
   "version": "3.7.9"
  },
  "orig_nbformat": 4,
  "kernelspec": {
   "name": "python3",
   "display_name": "Python 3.7.9 64-bit ('base': conda)"
  },
  "interpreter": {
   "hash": "4b5be0c7d8816b0411dd8381c01b6ac4b538687487d40264816f7c3f94b5666c"
  }
 },
 "nbformat": 4,
 "nbformat_minor": 2,
 "cells": [
  {
   "cell_type": "code",
   "execution_count": 5,
   "metadata": {},
   "outputs": [
    {
     "output_type": "stream",
     "name": "stdout",
     "text": [
      "Using cpu device\n",
      "Creating environment from the given name 'BreakoutNoFrameskip-v4'\n",
      "Wrapping the env with a `Monitor` wrapper\n",
      "Wrapping the env in a DummyVecEnv.\n",
      "Wrapping the env in a VecTransposeImage.\n",
      "Created a buffer for images of shape torch.Size([1000, 33600]) and latents torch.Size([1000, 128])\n",
      "Filling buffer with 100 samples\n",
      "100%|██████████| 100/100 [00:00<00:00, 162.50it/s]\n",
      "Training decoder for 3 epochs\n",
      "  0%|          | 0/3 [00:00<?, ?it/s]\n",
      " epoch : 1/3, loss = 78.949593\n",
      "100%|██████████| 3/3 [00:01<00:00,  1.98it/s]\n",
      "Training decoder for 3 epochs\n",
      "  0%|          | 0/3 [00:00<?, ?it/s]\n",
      " epoch : 1/3, loss = 67.871834\n",
      "100%|██████████| 3/3 [00:01<00:00,  1.98it/s]\n",
      "Training decoder for 3 epochs\n",
      "  0%|          | 0/3 [00:00<?, ?it/s]\n",
      " epoch : 1/3, loss = 59.196598\n",
      "100%|██████████| 3/3 [00:01<00:00,  1.99it/s]\n",
      "Training decoder for 3 epochs\n",
      "  0%|          | 0/3 [00:00<?, ?it/s]\n",
      " epoch : 1/3, loss = 52.725861\n",
      "100%|██████████| 3/3 [00:01<00:00,  1.98it/s]\n"
     ]
    }
   ],
   "source": [
    "import sys, os\n",
    "from tqdm import tqdm\n",
    "sys.path.append(\"P:/Dokumente/3 Uni/SoSe21/Data_Compression/DataCompression\")\n",
    "sys.path.append(os.getcwd())\n",
    "from src.training_loop import Trainer\n",
    "\n",
    "config = {\n",
    "# \"rl_agent_train_steps\": 1,\n",
    "# \"decoder_train_steps\":10,\n",
    "\"buffer_size\": 1000,\n",
    "\"save_path\": \"P:/Dokumente/3 Uni/SoSe21/Data_Compression/DataCompression/exp/first_example/run_1000\"\n",
    "}\n",
    "mytrainer = Trainer(**config)\n",
    "mytrainer.save()\n",
    "mytrainer.train_rl_agent(300, save_every=100)\n",
    "mytrainer.fill_buffer(1000)\n",
    "losses = mytrainer.train_Decoder(epochs=1000, batch_size=64, save_every=100)"
   ]
  },
  {
   "cell_type": "code",
   "execution_count": null,
   "metadata": {},
   "outputs": [],
   "source": []
  }
 ]
}